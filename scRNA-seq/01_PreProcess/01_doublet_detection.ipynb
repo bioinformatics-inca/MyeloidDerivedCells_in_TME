{
 "cells": [
  {
   "cell_type": "markdown",
   "metadata": {},
   "source": [
    "## Scrublet"
   ]
  },
  {
   "cell_type": "code",
   "execution_count": null,
   "metadata": {},
   "outputs": [],
   "source": [
    "# install all necessary libraries\n",
    "pip install scrublet"
   ]
  },
  {
   "cell_type": "code",
   "execution_count": null,
   "metadata": {},
   "outputs": [],
   "source": [
    "# import those libraries\n",
    "import scanpy as sc\n",
    "import pandas as pd\n",
    "import seaborn as sns\n",
    "%matplotlib inline\n",
    "import scrublet as scr\n",
    "import scipy.io\n",
    "import matplotlib.pyplot as plt\n",
    "import numpy as np\n",
    "import os"
   ]
  },
  {
   "cell_type": "markdown",
   "metadata": {},
   "source": [
    "### AnnData"
   ]
  },
  {
   "cell_type": "code",
   "execution_count": null,
   "metadata": {},
   "outputs": [],
   "source": [
    "# Importing scRNA-seq h5ad file\n",
    "adata = sc.read_h5ad(\"/data/dataset_before_doublet_elimination.h5ad\")"
   ]
  },
  {
   "cell_type": "code",
   "execution_count": null,
   "metadata": {},
   "outputs": [],
   "source": [
    "# checking the metadata layers from anndata\n",
    "adata"
   ]
  },
  {
   "cell_type": "code",
   "execution_count": null,
   "metadata": {},
   "outputs": [],
   "source": [
    "# retrieve umap with patient information on metadata\n",
    "sc.pl.umap(adata, color=['patient'], frameon=True, \n",
    "           ncols=1, palette=pal, size=5,\n",
    "           legend_fontsize='xx-small', legend_fontweight= 'light',\n",
    "           title='')"
   ]
  },
  {
   "cell_type": "code",
   "execution_count": null,
   "metadata": {},
   "outputs": [],
   "source": [
    "# other way to check de layers of information on the metadata of the anndata file\n",
    "metadata_df.head(20)"
   ]
  },
  {
   "cell_type": "code",
   "execution_count": null,
   "metadata": {},
   "outputs": [],
   "source": [
    "# check the amount of patients present in the dataset\n",
    "adata.obs['patient'].value_counts()"
   ]
  },
  {
   "cell_type": "markdown",
   "metadata": {},
   "source": [
    "### Subset"
   ]
  },
  {
   "cell_type": "code",
   "execution_count": null,
   "metadata": {},
   "outputs": [],
   "source": [
    "# subset annData per patient\n",
    "adata1 = adata[adata.obs['patient'].isin(['XXXX'])] # repete that line as many time as the number of patients in the dataset. Change the name of the variable for each patient."
   ]
  },
  {
   "cell_type": "code",
   "execution_count": null,
   "metadata": {},
   "outputs": [],
   "source": [
    "# check the amount of cells for each patient\n",
    "print(adata1.obs['patient'].value_counts())"
   ]
  },
  {
   "cell_type": "code",
   "execution_count": null,
   "metadata": {},
   "outputs": [],
   "source": [
    "# calculate the quality control metrics using scanpy for all patients in the original dataset\n",
    "sc.pp.calculate_qc_metrics(adata, expr_type='counts', var_type='genes', qc_vars=(), \n",
    "                           percent_top=None, layer=None, use_raw=False, inplace=True, \n",
    "                           log1p=False, parallel=None)"
   ]
  },
  {
   "cell_type": "code",
   "execution_count": null,
   "metadata": {},
   "outputs": [],
   "source": [
    "# generate plots for all the quality control metrics\n",
    "sc.pl.violin(adata, ['n_genes_by_counts', 'total_counts'],\n",
    "             jitter=0.4, groupby = 'patient', rotation= 45)"
   ]
  },
  {
   "cell_type": "markdown",
   "metadata": {},
   "source": [
    "### Remove doublet"
   ]
  },
  {
   "cell_type": "code",
   "execution_count": null,
   "metadata": {},
   "outputs": [],
   "source": [
    "# repete the next 5 steps for each patient subset of the dataset\n",
    "# this step run the scrublet with automated threshold\n",
    "scrub = scr.Scrublet(adata1.X)\n",
    "adata1.obs['doublet_scores'], adata1.obs['predicted_doublets'] = scrub.scrub_doublets()\n",
    "scrub.plot_histogram()\n",
    "print(sum(adata1.obs['predicted_doublets']) , 'doublet(s) detected')\n",
    "\n",
    "print('Running UMAP...')\n",
    "scrub.set_embedding('UMAP', scr.get_umap(scrub.manifold_obs_, 10, min_dist=0.3))\n",
    "print('Done.')\n",
    "\n",
    "scrub.plot_embedding('UMAP', order_points=True);"
   ]
  },
  {
   "cell_type": "code",
   "execution_count": null,
   "metadata": {},
   "outputs": [],
   "source": [
    "# in that step run scrublet changing the threshold value (if necessary) by looking the histograms in the previous step\n",
    "scrub = scr.Scrublet(adata1.X)\n",
    "adata1.obs['doublet_scores'], adata1.obs['predicted_doublets'] = scrub.scrub_doublets()\n",
    "adata1.obs['predicted_doublets'] = scrub.call_doublets(threshold=0.38)\n",
    "adata1.obs['doublet_info'] = adata1.obs[\"predicted_doublets\"].astype(str)\n",
    "scrub.plot_histogram()\n",
    "print(sum(adata1.obs['predicted_doublets']) , 'doublet(s) detected')\n",
    "\n",
    "print('Running UMAP...')\n",
    "scrub.set_embedding('UMAP', scr.get_umap(scrub.manifold_obs_, 10, min_dist=0.3))\n",
    "print('Done.')\n",
    "\n",
    "scrub.plot_embedding('UMAP', order_points=True);\n",
    "\n",
    "sc.pp.neighbors(adata1, n_neighbors=10, n_pcs=40)\n",
    "sc.tl.umap(adata1)\n",
    "sc.pl.umap(adata1, color=['ratio_nCount_nFeature', 'doublet_info'])"
   ]
  },
  {
   "cell_type": "code",
   "execution_count": null,
   "metadata": {},
   "outputs": [],
   "source": [
    "# recalculate the quality control metrics from scanpy\n",
    "sc.pp.calculate_qc_metrics(adata1, expr_type='counts', var_type='genes', qc_vars=(), percent_top=None, layer=None, use_raw=False, inplace=True, log1p=False, parallel=None)"
   ]
  },
  {
   "cell_type": "code",
   "execution_count": null,
   "metadata": {},
   "outputs": [],
   "source": [
    "# rerun the violin plot using the new calculated quality control metrics\n",
    "sc.pl.violin(adata1, 'n_genes_by_counts',\n",
    "             jitter=0.4, groupby = 'doublet_info', rotation=45)"
   ]
  },
  {
   "cell_type": "code",
   "execution_count": null,
   "metadata": {},
   "outputs": [],
   "source": [
    "# concatenate all subsets of patients in one final dataset\n",
    "adata_def = adata1.concatenate(adata2, adata3)"
   ]
  },
  {
   "cell_type": "code",
   "execution_count": null,
   "metadata": {},
   "outputs": [],
   "source": [
    "# recalculate the quality control metrics for all patients together in order to compare with the plots in the beggining \n",
    "sc.pp.calculate_qc_metrics(adata_def, expr_type='counts', var_type='genes', qc_vars=(), percent_top=None, layer=None, use_raw=False, inplace=True, log1p=False, parallel=None)"
   ]
  },
  {
   "cell_type": "code",
   "execution_count": null,
   "metadata": {},
   "outputs": [],
   "source": [
    "# plot the final violin plots of the amount of true doublets identified in all dataset\n",
    "sc.pl.violin(adata_def, 'n_genes_by_counts',\n",
    "             jitter=0.4, groupby = 'doublet_info', rotation=45)"
   ]
  },
  {
   "cell_type": "code",
   "execution_count": null,
   "metadata": {},
   "outputs": [],
   "source": [
    "# this will eliminate the doublet from the final dataset\n",
    "adatadef = adatadef[adata_def.obs['doublet_info'].isin(['False'])]"
   ]
  },
  {
   "cell_type": "code",
   "execution_count": null,
   "metadata": {},
   "outputs": [],
   "source": [
    "# final violin plot to compare quality control metrics after doublet elimination\n",
    "sc.pl.violin(adata_def, ['n_genes_by_counts', 'total_counts'],\n",
    "             jitter=0.4, groupby = 'patient', rotation= 45)"
   ]
  },
  {
   "cell_type": "code",
   "execution_count": null,
   "metadata": {},
   "outputs": [],
   "source": [
    "# check the final amount of cells remained in the dataset after doublet detection\n",
    "adata_def"
   ]
  },
  {
   "cell_type": "code",
   "execution_count": null,
   "metadata": {},
   "outputs": [],
   "source": [
    "# save the final h5ad file of the dataset after doublet elimination\n",
    "results_file = '/data/results/'  # the file that will store the analysis results\n",
    "author = 'dataset_after_doublet_elimination.h5ad'\n",
    "adata_def.write(results_file + author, compression='gzip')"
   ]
  }
 ],
 "metadata": {
  "kernelspec": {
   "display_name": "Python 3 (ipykernel)",
   "language": "python",
   "name": "python3"
  },
  "language_info": {
   "codemirror_mode": {
    "name": "ipython",
    "version": 3
   },
   "file_extension": ".py",
   "mimetype": "text/x-python",
   "name": "python",
   "nbconvert_exporter": "python",
   "pygments_lexer": "ipython3",
   "version": "3.9.13"
  }
 },
 "nbformat": 4,
 "nbformat_minor": 4
}
